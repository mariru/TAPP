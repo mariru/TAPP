{
 "cells": [
  {
   "cell_type": "markdown",
   "metadata": {},
   "source": [
    "## Your first Edward program\n",
    "\n",
    "Probabilistic modeling in Edward uses a simple language of random variables. Here we will show a Bayesian neural network: a neural network with a prior distribution on its weights. \n",
    "\n",
    "This examples follow both the [getting started](http://edwardlib.org/getting-started) help on the Edward website as well the source code [here](https://github.com/blei-lab/edward/blob/master/examples/getting_started_example.py)."
   ]
  },
  {
   "cell_type": "markdown",
   "metadata": {},
   "source": [
    "Let's set up our imports."
   ]
  },
  {
   "cell_type": "code",
   "execution_count": 3,
   "metadata": {
    "collapsed": false
   },
   "outputs": [],
   "source": [
    "%matplotlib inline\n",
    "\n",
    "import edward as ed\n",
    "import matplotlib.pyplot as plt\n",
    "import numpy as np\n",
    "import tensorflow as tf\n",
    "\n",
    "from edward.models import Normal\n",
    "from edward.stats import norm\n",
    "\n",
    "plt.style.use('ggplot')"
   ]
  },
  {
   "cell_type": "markdown",
   "metadata": {},
   "source": [
    "Let's define some methods which we'll use.\n",
    "\n",
    "`build_toy_dataset` simulates a toy dataset of 50 observations with a cosine relationship."
   ]
  },
  {
   "cell_type": "code",
   "execution_count": 4,
   "metadata": {
    "collapsed": true
   },
   "outputs": [],
   "source": [
    "def build_toy_dataset(N=50, noise_std=0.1):\n",
    "  x = np.linspace(-3, 3, num=N)\n",
    "  y = np.cos(x) + norm.rvs(0, noise_std, size=N)\n",
    "  x = x.reshape((N, 1))\n",
    "  return x, y"
   ]
  },
  {
   "cell_type": "markdown",
   "metadata": {},
   "source": [
    "Next, define a two-layer Bayesian neural network. Here, we define the neural network manually with tanh nonlinearities."
   ]
  },
  {
   "cell_type": "code",
   "execution_count": 5,
   "metadata": {
    "collapsed": true
   },
   "outputs": [],
   "source": [
    "def neural_network(x, W_0, W_1, b_0, b_1):\n",
    "    h = tf.nn.tanh(tf.matmul(x, W_0) + b_0)\n",
    "    h = tf.matmul(h, W_1) + b_1\n",
    "    return tf.reshape(h, [-1])"
   ]
  },
  {
   "cell_type": "markdown",
   "metadata": {},
   "source": [
    "Following are sample functions from variational model to visualize fits."
   ]
  },
  {
   "cell_type": "code",
   "execution_count": 6,
   "metadata": {
    "collapsed": true
   },
   "outputs": [],
   "source": [
    "def vis(label, message, output=False):\n",
    "    \n",
    "    # if our model has been setup, and output is true, we set it up for plotting\n",
    "    if output:\n",
    "        rs = np.random.RandomState(0)\n",
    "        inputs = np.linspace(-5, 5, num=400, dtype=np.float32)\n",
    "        x = tf.expand_dims(tf.constant(inputs), 1)\n",
    "        mus = []\n",
    "        for s in range(10):\n",
    "            mus += [neural_network(x, qW_0.sample(), qW_1.sample(), qb_0.sample(), qb_1.sample())]\n",
    "\n",
    "        mus = tf.pack(mus)\n",
    "        outputs = mus.eval()\n",
    "\n",
    "    fig = plt.figure(figsize=(10, 6))\n",
    "    ax = fig.add_subplot(111)\n",
    "    ax.set_title(message)\n",
    "    ax.plot(x_train, y_train, 'ks', alpha=0.5, label='(x, y)')\n",
    "    \n",
    "    # again, if output is ready then we plot it\n",
    "    if output:\n",
    "        ax.plot(inputs, outputs[0].T, 'r', lw=2, alpha=0.5, label=label)\n",
    "        ax.plot(inputs, outputs[1:].T, 'r', lw=2, alpha=0.5)\n",
    "        ax.plot(inputs, 'r', lw=2, alpha=0.5)\n",
    "        \n",
    "    ax.set_xlim([-5, 5])\n",
    "    ax.set_ylim([-3, 3])\n",
    "    ax.legend()\n",
    "    plt.show()"
   ]
  },
  {
   "cell_type": "markdown",
   "metadata": {},
   "source": [
    "We've our imports and helper functions set up and can start with our first Edward program!"
   ]
  },
  {
   "cell_type": "code",
   "execution_count": 7,
   "metadata": {
    "collapsed": false
   },
   "outputs": [
    {
     "data": {
      "image/png": "[encoded data removed]",
      "text/plain": [
       "<matplotlib.figure.Figure at 0x11e567690>"
      ]
     },
     "metadata": {},
     "output_type": "display_data"
    }
   ],
   "source": [
    "ed.set_seed(42)\n",
    "\n",
    "N = 50  # num data ponts\n",
    "D = 1   # num features\n",
    "\n",
    "# DATA\n",
    "x_train, y_train = build_toy_dataset(N)\n",
    "vis(None, message=\"input\")"
   ]
  },
  {
   "cell_type": "code",
   "execution_count": 8,
   "metadata": {
    "collapsed": true
   },
   "outputs": [],
   "source": [
    "# MODEL\n",
    "W_0 = Normal(mu=tf.zeros([D, 2]), sigma=tf.ones([D, 2]))\n",
    "W_1 = Normal(mu=tf.zeros([2, 1]), sigma=tf.ones([2, 1]))\n",
    "b_0 = Normal(mu=tf.zeros(2), sigma=tf.ones(2))\n",
    "b_1 = Normal(mu=tf.zeros(1), sigma=tf.ones(1))\n",
    "\n",
    "x = tf.convert_to_tensor(x_train, dtype=tf.float32)\n",
    "y = Normal(mu=neural_network(x, W_0, W_1, b_0, b_1),\n",
    "           sigma=0.1 * tf.ones(N))"
   ]
  },
  {
   "cell_type": "markdown",
   "metadata": {},
   "source": [
    "Next, make inferences about the model from data. Edward focuses on variational inference. Specify a normal approximation over the weights and biases."
   ]
  },
  {
   "cell_type": "code",
   "execution_count": 9,
   "metadata": {
    "collapsed": true
   },
   "outputs": [],
   "source": [
    "# INFERENCE\n",
    "\n",
    "qW_0 = Normal(mu=tf.Variable(tf.random_normal([1, 2])),\n",
    "              sigma=tf.nn.softplus(tf.Variable(tf.random_normal([1, 2]))))\n",
    "qW_1 = Normal(mu=tf.Variable(tf.random_normal([2, 1])),\n",
    "              sigma=tf.nn.softplus(tf.Variable(tf.random_normal([2, 1]))))\n",
    "qb_0 = Normal(mu=tf.Variable(tf.random_normal([2])),\n",
    "              sigma=tf.nn.softplus(tf.Variable(tf.random_normal([2]))))\n",
    "qb_1 = Normal(mu=tf.Variable(tf.random_normal([1])),\n",
    "              sigma=tf.nn.softplus(tf.Variable(tf.random_normal([1]))))"
   ]
  },
  {
   "cell_type": "markdown",
   "metadata": {},
   "source": [
    "Defining `tf.Variable` allows the variational factors’ parameters to vary. They are initialized randomly. The standard deviation parameters are constrained to be greater than zero according to a softplus transformation.\n",
    "\n",
    "Let's set up our inference, now."
   ]
  },
  {
   "cell_type": "code",
   "execution_count": 10,
   "metadata": {
    "collapsed": false
   },
   "outputs": [],
   "source": [
    "data = {y: y_train}\n",
    "inference = ed.MFVI({W_0: qW_0, b_0: qb_0,\n",
    "                     W_1: qW_1, b_1: qb_1}, data)\n",
    "inference.initialize()\n",
    "tf.initialize_all_variables().run()"
   ]
  },
  {
   "cell_type": "markdown",
   "metadata": {},
   "source": [
    "Let's now visualise how our output looks without any training!"
   ]
  },
  {
   "cell_type": "code",
   "execution_count": null,
   "metadata": {
    "collapsed": false,
    "scrolled": true
   },
   "outputs": [
    {
     "data": {
      "image/png": "[encoded data removed]",
      "text/plain": [
       "<matplotlib.figure.Figure at 0x11fadc390>"
      ]
     },
     "metadata": {},
     "output_type": "display_data"
    }
   ],
   "source": [
    "vis(label=\"prior draws\", message=\"Iteration: 0\", output=True)"
   ]
  },
  {
   "cell_type": "markdown",
   "metadata": {},
   "source": [
    "Now, run mean-field variational inference. Infer the model’s latent variables conditional on data using the variational distribution. We specify 1000 iterations."
   ]
  },
  {
   "cell_type": "code",
   "execution_count": null,
   "metadata": {
    "collapsed": false
   },
   "outputs": [],
   "source": [
    "inference.run(n_iter=500, n_samples=5)"
   ]
  },
  {
   "cell_type": "markdown",
   "metadata": {},
   "source": [
    "Finally, criticize the model fit. Bayesian neural networks define a distribution over neural networks, so let’s do a graphical check. Draw neural networks from the inferred model and visualize how well it fits the data."
   ]
  },
  {
   "cell_type": "code",
   "execution_count": null,
   "metadata": {
    "collapsed": false
   },
   "outputs": [],
   "source": [
    "vis(label=\"posterior draws\", message=\"Iteration: 1000\", output=True)"
   ]
  },
  {
   "cell_type": "markdown",
   "metadata": {},
   "source": [
    "As you can see, the model has learned the cosine relationship between x and y."
   ]
  },
  {
   "cell_type": "code",
   "execution_count": null,
   "metadata": {
    "collapsed": true
   },
   "outputs": [],
   "source": []
  }
 ],
 "metadata": {
  "kernelspec": {
   "display_name": "Python 2",
   "language": "python",
   "name": "python2"
  },
  "language_info": {
   "codemirror_mode": {
    "name": "ipython",
    "version": 2
   },
   "file_extension": ".py",
   "mimetype": "text/x-python",
   "name": "python",
   "nbconvert_exporter": "python",
   "pygments_lexer": "ipython2",
   "version": "2.7.10"
  }
 },
 "nbformat": 4,
 "nbformat_minor": 1
}
